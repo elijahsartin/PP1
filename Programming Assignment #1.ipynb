{
 "cells": [
  {
   "cell_type": "markdown",
   "id": "3e721f07",
   "metadata": {},
   "source": [
    "# Programming Project 1\n",
    "## Elijah Sartin & Alex Smith\n",
    "## 1.0.0\n",
    "## Fall 2021 - Section 1"
   ]
  },
  {
   "cell_type": "markdown",
   "id": "a7d09503",
   "metadata": {},
   "source": [
    "# Rock Paper Scissors"
   ]
  },
  {
   "cell_type": "code",
   "execution_count": null,
   "id": "74838fad",
   "metadata": {},
   "outputs": [
    {
     "name": "stdout",
     "output_type": "stream",
     "text": [
      "Rock, Paper, Scissors. Shoot!: Rock\n",
      "Paper covers rock! You lose!\n",
      "Rock, Paper, Scissors. Shoot!: Paper\n",
      "Scissors cut paper! You lose!\n",
      "Rock, Paper, Scissors. Shoot!: Scissors\n",
      "Both players chose Scissors . It's a tie!\n"
     ]
    }
   ],
   "source": [
    "#import random files\n",
    "import random\n",
    "\n",
    "#make the game loop\n",
    "while True:\n",
    "    \n",
    "    #get user input\n",
    "    user_choice = input(\"Rock, Paper, Scissors. Shoot!: \")\n",
    "\n",
    "    #generate computer choice\n",
    "    possible_choices = [\"Rock\",\"Paper\",\"Scissors\"]\n",
    "    computer_choice = random.choice(possible_choices)\n",
    "\n",
    "    #determine the winner and print outcome\n",
    "    if user_choice == computer_choice:\n",
    "        print(\"Both players chose\", user_choice,\". It's a tie!\")\n",
    "    elif user_choice == \"Rock\":\n",
    "        if computer_choice == \"Scissors\":\n",
    "            print(\"Rock smashes scissors! You win!\")\n",
    "        else:\n",
    "            print(\"Paper covers rock! You lose!\")\n",
    "    elif user_choice == \"Paper\":\n",
    "        if computer_choice == \"Rock\":\n",
    "            print(\"Paper covers rock! You win!\")\n",
    "        else:\n",
    "            print(\"Scissors cut paper! You lose!\")\n",
    "    elif user_choice == \"Scissors\":\n",
    "        if computer_choice == \"Paper\":\n",
    "            print(\"Scissors cut paper! You win!\")\n",
    "        else:\n",
    "            print(\"Rock smashes scissors! You lose!\")"
   ]
  },
  {
   "cell_type": "code",
   "execution_count": null,
   "id": "26c836cb",
   "metadata": {},
   "outputs": [],
   "source": []
  }
 ],
 "metadata": {
  "kernelspec": {
   "display_name": "Python 3",
   "language": "python",
   "name": "python3"
  },
  "language_info": {
   "codemirror_mode": {
    "name": "ipython",
    "version": 3
   },
   "file_extension": ".py",
   "mimetype": "text/x-python",
   "name": "python",
   "nbconvert_exporter": "python",
   "pygments_lexer": "ipython3",
   "version": "3.8.8"
  }
 },
 "nbformat": 4,
 "nbformat_minor": 5
}
